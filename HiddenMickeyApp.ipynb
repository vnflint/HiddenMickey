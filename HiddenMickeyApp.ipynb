import streamlit as st
import numpy as np
import pandas as pd
from tensorflow.keras.models import load_model
import pickle
from tensorflow.keras.preprocessing.image import ImageDataGenerator
import os


img_datagen = tf.keras.preprocessing.image.ImageDataGenerator(rescale = 1/255)

def locator(img):
    
    model=load_model('mickeys.h5')
    test_generator = test_datagen.flow_from_directory(
    img,
    target_size = (256, 256),
    class_mode = 'binary'
    )
    predictions = model.predict(test_generator)[0][0]
    predictions = np.round(predictions)
    return predictions

title_ = '''

  <h2> Hidden Mickey Detector! </h2>

'''

st.markdown(title_, unsafe_allow_html=True)
st.markdown(title_, unsafe_allow_html=True)
st.markdown(title_, unsafe_allow_html=True)
st.markdown(title_, unsafe_allow_html=True)

st.write('Upload your picture to see if Mickey is hiding in it!')
    

def file_selector(folder_path='.'):
    filenames = os.listdir(folder_path)
    selected_filename = st.selectbox('Select a file', filenames)
    return os.path.join(folder_path, selected_filename)

filename = file_selector()
st.write('You selected `%s`' % filename)

if st.button("Let's Look!"):
    prediction = locator(filename)
    if prediction == 0:
        st.write("Mickey is hiding somewhere!")
    else:
        st.write("No Mickey here!")

page_bg_img = '''
<style>
body {
background-image: url("https://encrypted-tbn0.gstatic.com/images?q=tbn:ANd9GcStwLCH7dsIwsetciDQG6sXzCpu43QV6uljMA&usqp=CAU");
background-size: cover;
}
</style>
'''


st.markdown(page_bg_img, unsafe_allow_html=True)